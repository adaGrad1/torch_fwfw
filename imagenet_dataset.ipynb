{
 "cells": [
  {
   "cell_type": "code",
   "execution_count": 1,
   "id": "9d7df6ab",
   "metadata": {},
   "outputs": [
    {
     "name": "stdout",
     "output_type": "stream",
     "text": [
      "Downloading archive...\n",
      "--2023-05-05 02:30:21--  https://pjreddie.com/media/files/imagenet64.tar\n",
      "Resolving pjreddie.com (pjreddie.com)... 128.208.4.108\n",
      "Connecting to pjreddie.com (pjreddie.com)|128.208.4.108|:443... connected.\n",
      "HTTP request sent, awaiting response... 200 OK\n",
      "Length: 10033909760 (9.3G) [application/octet-stream]\n",
      "Saving to: ‘imagenet64.tar’\n",
      "\n",
      "imagenet64.tar      100%[===================>]   9.34G  7.54MB/s    in 5m 18s  \n",
      "\n",
      "2023-05-05 02:35:40 (30.0 MB/s) - ‘imagenet64.tar’ saved [10033909760/10033909760]\n",
      "\n",
      "Copying to local runtime...\n",
      "Uncompressing...\n",
      "Data ready!\n"
     ]
    }
   ],
   "source": [
    "from util import datapath, return_and_create_fpath\n",
    "\n",
    "\n",
    "import os\n",
    "import shutil\n",
    "\n",
    "\n",
    "print(\"Downloading archive...\")\n",
    "!wget https://pjreddie.com/media/files/imagenet64.tar\n",
    "print(\"Copying to local runtime...\")\n",
    "shutil.move('imagenet64.tar', datapath('imagenet64.tar'))\n",
    "print(\"Uncompressing...\")\n",
    "os.chdir(datapath(''))\n",
    "!tar -xf imagenet64.tar\n",
    "print(\"Data ready!\")"
   ]
  }
 ],
 "metadata": {
  "kernelspec": {
   "display_name": "Python 3 (ipykernel)",
   "language": "python",
   "name": "python3"
  },
  "language_info": {
   "codemirror_mode": {
    "name": "ipython",
    "version": 3
   },
   "file_extension": ".py",
   "mimetype": "text/x-python",
   "name": "python",
   "nbconvert_exporter": "python",
   "pygments_lexer": "ipython3",
   "version": "3.9.16"
  }
 },
 "nbformat": 4,
 "nbformat_minor": 5
}
