{
 "cells": [
  {
   "cell_type": "code",
   "execution_count": null,
   "id": "9d7df6ab",
   "metadata": {},
   "outputs": [],
   "source": [
    "import torch\n",
    "import torchvision\n",
    "import torchvision.transforms as transforms\n",
    "import matplotlib.pyplot as plt\n",
    "import numpy as np\n",
    "import torch.nn as nn\n",
    "import torch.nn.functional as F\n",
    "import torch.optim as optim\n",
    "from util import *\n",
    "\n",
    "device = torch.device(\"cuda:0\" if torch.cuda.is_available() else \"cpu\")\n",
    "print(device)\n",
    "\n",
    "\n",
    "\n",
    "import os\n",
    "import shutil\n",
    "\n",
    "if not not os.path.exists(datapath('imagenet64.tar')):\n",
    "    print(\"Downloading archive...\")\n",
    "    os.chdir(datapath(''))\n",
    "    #!wget https://pjreddie.com/media/files/imagenet64.tar\n",
    "    os.chdir(return_and_create_fpath('./imagenet/', ''))\n",
    "print(\"Copying to local runtime...\")\n",
    "shutil.copy(datapath('imagenet64.tar', './imagenet64.tar'))\n",
    "print(\"Uncompressing...\")\n",
    "!tar -xf imagenet64.tar\n",
    "print(\"Data ready!\")"
   ]
  }
 ],
 "metadata": {
  "kernelspec": {
   "display_name": "Python 3 (ipykernel)",
   "language": "python",
   "name": "python3"
  },
  "language_info": {
   "codemirror_mode": {
    "name": "ipython",
    "version": 3
   },
   "file_extension": ".py",
   "mimetype": "text/x-python",
   "name": "python",
   "nbconvert_exporter": "python",
   "pygments_lexer": "ipython3",
   "version": "3.10.10"
  }
 },
 "nbformat": 4,
 "nbformat_minor": 5
}
