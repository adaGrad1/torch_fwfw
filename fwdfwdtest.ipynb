{
 "cells": [
  {
   "cell_type": "code",
   "execution_count": null,
   "id": "bdeeb01e",
   "metadata": {},
   "outputs": [],
   "source": [
    "import forward\n",
    "from util import *\n",
    "import torch\n",
    "import torch.nn as nn\n",
    "from tqdm import tqdm\n",
    "from torch.utils.data import DataLoader\n",
    "from torch.utils.data import Dataset\n",
    "import numpy as np\n",
    "from torch.optim import SGD"
   ]
  },
  {
   "cell_type": "code",
   "execution_count": null,
   "id": "818764b0",
   "metadata": {},
   "outputs": [],
   "source": [
    "torch.manual_seed(1234)\n",
    "train_loader, test_loader = MNIST_loaders()\n",
    "device = torch.device(\"cuda:0\" if torch.cuda.is_available() else \"cpu\")\n",
    "\n",
    "\n"
   ]
  },
  {
   "cell_type": "code",
   "execution_count": null,
   "id": "731baf5f",
   "metadata": {},
   "outputs": [],
   "source": [
    "x, y = next(iter(train_loader))\n",
    "x, y = x.to(device), y.to(device)\n"
   ]
  },
  {
   "cell_type": "code",
   "execution_count": null,
   "id": "80d26cd2",
   "metadata": {},
   "outputs": [],
   "source": [
    "import torch.nn.functional as F\n",
    "\n",
    "dataset = FwFw_Dataset(x, OneHot(y))\n",
    "train_dataloader = DataLoader(dataset, batch_size=256, shuffle=True)"
   ]
  },
  {
   "cell_type": "code",
   "execution_count": null,
   "id": "9e0ae9f7",
   "metadata": {
    "scrolled": true
   },
   "outputs": [],
   "source": [
    "net = forward.FCNet([784, 2000, 2000, 2000, 2000], y_classes = 10, dropout=0).to(device)\n",
    "\n",
    "opt = SGD(net.parameters(), lr=0.005, momentum=0.9)\n",
    "n_epoch = 300\n",
    "lossfn = fwfw_loss\n",
    "pbar = tqdm(range(n_epoch), desc=f\"Epoch 0\")\n",
    "for i in pbar:    \n",
    "    running_loss = 0\n",
    "    for batch in train_dataloader:\n",
    "        cur_x = (batch[0].to(device), batch[1].to(device)) # x and associated y (which may be true or false labels)\n",
    "        cur_y = batch[2].to(device)\n",
    "        opt.zero_grad()\n",
    "        res = net.forward(cur_x)\n",
    "        loss = lossfn(cur_y.type(torch.float64), res)\n",
    "        loss.backward()\n",
    "        opt.step()\n",
    "        running_loss += (loss.item() / len(dataset))\n",
    "    if i % 10 == 0:\n",
    "        with torch.no_grad():\n",
    "            acc = net.predict(x).eq(y).float().mean().item()\n",
    "    pbar.set_description(f'Epoch {i}, train loss {running_loss}, train acc: {acc}')\n",
    "torch.save(net.state_dict(), modelpath('hinton.ptc'))\n",
    "\n"
   ]
  },
  {
   "cell_type": "code",
   "execution_count": 7,
   "id": "723597ac",
   "metadata": {},
   "outputs": [
    {
     "name": "stdout",
     "output_type": "stream",
     "text": [
      "train error: 0.06842005252838135\n",
      "test error: 0.07289999723434448\n"
     ]
    }
   ],
   "source": [
    "net = forward.FCNet([784, 2000, 2000, 2000, 2000], dropout=0).to(device)\n",
    "net.load_state_dict(torch.load(modelpath('hinton.ptc')))\n",
    "x_te, y_te = next(iter(test_loader))\n",
    "x_te, y_te = x_te.to(device), y_te.to(device)\n",
    "with torch.no_grad():\n",
    "    print('train error:', 1.0 - net.predict(x).eq(y).float().mean().item())\n",
    "    print('test error:', 1.0 - net.predict(x_te).eq(y_te).float().mean().item())\n"
   ]
  },
  {
   "cell_type": "markdown",
   "id": "a25bf162",
   "metadata": {},
   "source": [
    "The above train/test error is a bit above the paper's results, which is partially due to training for 400 rather than 1000 epochs. the only other differences I can think of are:\n",
    "- the use of an adapter layer on top of the probability outputs, which I haven't yet figured out how to elegantly fit into the project structure\n",
    "- the training has basically label damping because the dataloader has some chance of picking a positive example with label=0"
   ]
  },
  {
   "cell_type": "code",
   "execution_count": null,
   "id": "c1efbe27",
   "metadata": {},
   "outputs": [],
   "source": []
  }
 ],
 "metadata": {
  "kernelspec": {
   "display_name": "Python 3 (ipykernel)",
   "language": "python",
   "name": "python3"
  },
  "language_info": {
   "codemirror_mode": {
    "name": "ipython",
    "version": 3
   },
   "file_extension": ".py",
   "mimetype": "text/x-python",
   "name": "python",
   "nbconvert_exporter": "python",
   "pygments_lexer": "ipython3",
   "version": "3.9.16"
  }
 },
 "nbformat": 4,
 "nbformat_minor": 5
}
