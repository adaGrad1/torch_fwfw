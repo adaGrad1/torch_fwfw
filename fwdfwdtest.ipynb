{
 "cells": [
  {
   "cell_type": "code",
   "execution_count": 1,
   "id": "bdeeb01e",
   "metadata": {},
   "outputs": [],
   "source": [
    "from forward import *\n",
    "from util import *\n",
    "import matplotlib.pyplot as plt\n",
    "import torch\n",
    "import torch.nn as nn\n",
    "from tqdm import tqdm\n",
    "from torch.utils.data import DataLoader\n",
    "from torch.utils.data import Dataset\n",
    "import numpy as np\n",
    "from torch.optim import SGD"
   ]
  },
  {
   "cell_type": "code",
   "execution_count": 2,
   "id": "818764b0",
   "metadata": {},
   "outputs": [],
   "source": [
    "torch.manual_seed(1234)\n",
    "train_loader, test_loader = MNIST_loaders()\n",
    "device = torch.device(\"cuda:0\" if torch.cuda.is_available() else \"cpu\")\n",
    "\n",
    "\n"
   ]
  },
  {
   "cell_type": "code",
   "execution_count": 3,
   "id": "731baf5f",
   "metadata": {},
   "outputs": [],
   "source": [
    "x, y = next(iter(train_loader))\n",
    "x, y = x.to(device), y.to(device)\n",
    "x_pos = overlay_y_on_x(x, y)\n",
    "rnd = torch.randperm(x.size(0))\n",
    "x_neg = overlay_y_on_x(x, y[rnd])\n",
    "\n",
    "dataset = FwFw_Dataset(x_pos, x_neg)\n",
    "train_dataloader = DataLoader(dataset, batch_size=256, shuffle=True)\n",
    "\n",
    "#for data, name in zip([x, x_pos, x_neg], ['orig', 'pos', 'neg']):\n",
    "#    visualize_sample(data, name)\n"
   ]
  },
  {
   "cell_type": "code",
   "execution_count": 4,
   "id": "9e0ae9f7",
   "metadata": {
    "scrolled": true
   },
   "outputs": [
    {
     "name": "stderr",
     "output_type": "stream",
     "text": [
      "Epoch 999, train loss 0.0057145058193244285, train acc: 0.9619399905204773: 100%|███████████████████████████████████████████████████████████████████████████████████████████████████████████████████| 1000/1000 [53:22<00:00,  3.20s/it]\n"
     ]
    }
   ],
   "source": [
    "\n",
    "net = FCNet([784, 2000, 2000, 2000, 2000], dropout=0).to(device)\n",
    "\n",
    "opt = SGD(net.parameters(), lr=0.005, momentum=0.9)\n",
    "n_epoch = 1000\n",
    "lossfn = fwfw_loss\n",
    "pbar = tqdm(range(n_epoch), desc=f\"Epoch 0\")\n",
    "for i in pbar:\n",
    "    running_loss = 0\n",
    "    for batch in train_dataloader:\n",
    "        cur_x = batch[0]\n",
    "        cur_y = batch[1].to(device)\n",
    "        opt.zero_grad()\n",
    "        res = net.forward(cur_x)\n",
    "        loss = lossfn(cur_y.type(torch.float64), res)\n",
    "        loss.backward()\n",
    "        opt.step()\n",
    "        running_loss += (loss.item() / len(dataset))\n",
    "    if i % 10 == 0:\n",
    "        with torch.no_grad():\n",
    "            acc = net.predict(x).eq(y).float().mean().item()\n",
    "    pbar.set_description(f'Epoch {i}, train loss {running_loss}, train acc: {acc}')\n",
    "torch.save(net.state_dict(), 'models/hinton.ptc')\n",
    "\n"
   ]
  },
  {
   "cell_type": "code",
   "execution_count": 8,
   "id": "723597ac",
   "metadata": {},
   "outputs": [
    {
     "name": "stdout",
     "output_type": "stream",
     "text": [
      "train error: 0.03786003589630127\n",
      "test error: 0.05070000886917114\n"
     ]
    }
   ],
   "source": [
    "net = FCNet([784, 2000, 2000, 2000, 2000], dropout=0).to(device)\n",
    "net.load_state_dict(torch.load('models/hinton.ptc'))\n",
    "x_te, y_te = next(iter(test_loader))\n",
    "x_te, y_te = x_te.to(device), y_te.to(device)\n",
    "with torch.no_grad():\n",
    "    print('train error:', 1.0 - net1.predict(x).eq(y).float().mean().item())\n",
    "    print('test error:', 1.0 - net1.predict(x_te).eq(y_te).float().mean().item())\n"
   ]
  },
  {
   "cell_type": "code",
   "execution_count": 6,
   "id": "0459cfbc",
   "metadata": {},
   "outputs": [],
   "source": [
    "#asdf = nn.BCEWithLogitsLoss()\n",
    "\n",
    "#test_y = torch.tensor([0, -1, 1]).type(torch.float64)\n",
    "#test_logits = torch.tensor([-90, 99, 999]).type(torch.float64)\n",
    "#print(asdf(test_logits, test_y))"
   ]
  }
 ],
 "metadata": {
  "kernelspec": {
   "display_name": "Python 3 (ipykernel)",
   "language": "python",
   "name": "python3"
  },
  "language_info": {
   "codemirror_mode": {
    "name": "ipython",
    "version": 3
   },
   "file_extension": ".py",
   "mimetype": "text/x-python",
   "name": "python",
   "nbconvert_exporter": "python",
   "pygments_lexer": "ipython3",
   "version": "3.9.16"
  }
 },
 "nbformat": 4,
 "nbformat_minor": 5
}
