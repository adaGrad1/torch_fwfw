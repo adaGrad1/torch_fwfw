{
 "cells": [
  {
   "cell_type": "code",
   "execution_count": 1,
   "id": "bdeeb01e",
   "metadata": {},
   "outputs": [],
   "source": [
    "import forward\n",
    "from util import *\n",
    "import torch\n",
    "import torch.nn as nn\n",
    "from tqdm import tqdm\n",
    "from torch.utils.data import DataLoader\n",
    "from torch.utils.data import Dataset\n",
    "import numpy as np\n",
    "from torch.optim import SGD"
   ]
  },
  {
   "cell_type": "code",
   "execution_count": 2,
   "id": "818764b0",
   "metadata": {},
   "outputs": [],
   "source": [
    "torch.manual_seed(1234)\n",
    "train_loader, test_loader = MNIST_loaders()\n",
    "device = torch.device(\"cuda:0\" if torch.cuda.is_available() else \"cpu\")\n",
    "\n",
    "\n"
   ]
  },
  {
   "cell_type": "code",
   "execution_count": 3,
   "id": "731baf5f",
   "metadata": {},
   "outputs": [],
   "source": [
    "x, y = next(iter(train_loader))\n",
    "x, y = x.to(device), y.to(device)\n"
   ]
  },
  {
   "cell_type": "code",
   "execution_count": 11,
   "id": "80d26cd2",
   "metadata": {},
   "outputs": [],
   "source": [
    "import torch.nn.functional as F\n",
    "class OneHot(Dataset):\n",
    "    def __init__(self, y, n_classes=10):\n",
    "        self.y = y\n",
    "        self.n_classes = n_classes\n",
    "    def __len__(self):\n",
    "        return len(self.y)\n",
    "    def __getitem__(self, idx):\n",
    "        return F.one_hot(self.y[idx], num_classes=self.n_classes)\n",
    "        return torch.ones((self.n_classes))\n",
    "\n",
    "class FwFw_Dataset(Dataset):\n",
    "    \n",
    "    def __init__(self, x, y):\n",
    "        self.x = x\n",
    "        self.y = y\n",
    "    def __len__(self):\n",
    "        return len(self.x)*2\n",
    "    def __getitem__(self, idx):\n",
    "        if idx >= len(self.x):\n",
    "            y_idx = np.random.randint(len(self.y), size=1)\n",
    "            return self.x[idx-len(self.x)], self.y[y_idx[0]], 0.0\n",
    "        else:\n",
    "            return self.x[idx], self.y[idx], 1.0\n",
    "\n",
    "dataset = FwFw_Dataset(x, OneHot(y))\n",
    "train_dataloader = DataLoader(dataset, batch_size=256, shuffle=True)"
   ]
  },
  {
   "cell_type": "code",
   "execution_count": 16,
   "id": "9e0ae9f7",
   "metadata": {
    "scrolled": true
   },
   "outputs": [
    {
     "name": "stderr",
     "output_type": "stream",
     "text": [
      "Epoch 299, train loss 0.007325633278655434, train acc: 0.9332999587059021: 100%|██████████████████████████████████████████████████████████████████████████████████████████████████████████████████████| 300/300 [32:39<00:00,  6.53s/it]\n"
     ]
    }
   ],
   "source": [
    "import importlib\n",
    "import time\n",
    "importlib.reload(forward)\n",
    "\n",
    "\n",
    "net = forward.FCNet([784, 2000, 2000, 2000, 2000], y_classes = 10, dropout=0).to(device)\n",
    "\n",
    "opt = SGD(net.parameters(), lr=0.005, momentum=0.9)\n",
    "n_epoch = 300\n",
    "lossfn = fwfw_loss\n",
    "pbar = tqdm(range(n_epoch), desc=f\"Epoch 0\")\n",
    "get_batch_time = 0\n",
    "run_time = 0\n",
    "eval_time = 0\n",
    "for i in pbar:\n",
    "    if i == 0:\n",
    "        timing = True\n",
    "        prev_time = time.time()\n",
    "    else:\n",
    "        timing = False\n",
    "    \n",
    "    running_loss = 0\n",
    "    for batch in train_dataloader:\n",
    "        cur_x = (batch[0].to(device), batch[1].to(device)) # x and associated y (which may be true or false labels)\n",
    "        cur_y = batch[2].to(device)\n",
    "        opt.zero_grad()\n",
    "        res = net.forward(cur_x)\n",
    "        loss = lossfn(cur_y.type(torch.float64), res)\n",
    "        loss.backward()\n",
    "        opt.step()\n",
    "        running_loss += (loss.item() / len(dataset))\n",
    "    if i % 10 == 0:\n",
    "        with torch.no_grad():\n",
    "            acc = net.predict(x).eq(y).float().mean().item()\n",
    "    pbar.set_description(f'Epoch {i}, train loss {running_loss}, train acc: {acc}')\n",
    "torch.save(net.state_dict(), modelpath('hinton.ptc'))\n",
    "\n"
   ]
  },
  {
   "cell_type": "code",
   "execution_count": 17,
   "id": "723597ac",
   "metadata": {},
   "outputs": [
    {
     "name": "stdout",
     "output_type": "stream",
     "text": [
      "train error: 0.06842005252838135\n",
      "test error: 0.07289999723434448\n"
     ]
    }
   ],
   "source": [
    "net = forward.FCNet([784, 2000, 2000, 2000, 2000], dropout=0).to(device)\n",
    "net.load_state_dict(torch.load(modelpath('hinton.ptc')))\n",
    "x_te, y_te = next(iter(test_loader))\n",
    "x_te, y_te = x_te.to(device), y_te.to(device)\n",
    "with torch.no_grad():\n",
    "    print('train error:', 1.0 - net.predict(x).eq(y).float().mean().item())\n",
    "    print('test error:', 1.0 - net.predict(x_te).eq(y_te).float().mean().item())\n"
   ]
  },
  {
   "cell_type": "markdown",
   "id": "a25bf162",
   "metadata": {},
   "source": [
    "The above train/test error is a bit above the paper's results, which is partially due to training for 400 rather than 1000 epochs. the only other differences I can think of are:\n",
    "- the use of an adapter layer on top of the probability outputs, which I haven't yet figured out how to elegantly fit into the project structure\n",
    "- the training has basically label damping because the dataloader has some chance of picking a positive example with label=0"
   ]
  },
  {
   "cell_type": "code",
   "execution_count": null,
   "id": "c1efbe27",
   "metadata": {},
   "outputs": [],
   "source": []
  }
 ],
 "metadata": {
  "kernelspec": {
   "display_name": "Python 3 (ipykernel)",
   "language": "python",
   "name": "python3"
  },
  "language_info": {
   "codemirror_mode": {
    "name": "ipython",
    "version": 3
   },
   "file_extension": ".py",
   "mimetype": "text/x-python",
   "name": "python",
   "nbconvert_exporter": "python",
   "pygments_lexer": "ipython3",
   "version": "3.9.16"
  }
 },
 "nbformat": 4,
 "nbformat_minor": 5
}
